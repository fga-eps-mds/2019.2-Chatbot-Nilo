{
 "cells": [
  {
   "cell_type": "markdown",
   "metadata": {
    "colab_type": "text",
    "id": "kO9wt2g3okLS"
   },
   "source": [
    "# Análise das Stories\n",
    "\n",
    "Notebook para o auxílio da análise das stories do chatbot."
   ]
  },
  {
   "cell_type": "markdown",
   "metadata": {},
   "source": [
    "### Configurando e Imports"
   ]
  },
  {
   "cell_type": "code",
   "execution_count": 1,
   "metadata": {},
   "outputs": [
    {
     "name": "stdout",
     "output_type": "stream",
     "text": [
      "Versões utilizadas neste jupyter notebook:\n",
      "rasa_nlu: 0.15.0 rasa_core: 0.14.1\n"
     ]
    }
   ],
   "source": [
    "import rasa_nlu\n",
    "import rasa_core\n",
    "from IPython.display import IFrame\n",
    "\n",
    "print(\"Versões utilizadas neste jupyter notebook:\")\n",
    "print(\"rasa_nlu: {} rasa_core: {}\".format(rasa_nlu.__version__, rasa_core.__version__))\n"
   ]
  },
  {
   "cell_type": "markdown",
   "metadata": {
    "colab_type": "text",
    "id": "tK5os3OinphP"
   },
   "source": [
    "## Análise e Avaliação das Stories"
   ]
  },
  {
   "cell_type": "markdown",
   "metadata": {
    "colab_type": "text",
    "id": "qWALQbCdwGxK"
   },
   "source": [
    "### Visualizaçõa do Fluxo de Conversa\n",
    "\n",
    "O comando abaixo monta um grafo com a relação das `intents` e `utters` do chatbot, ou seja, você vai conseguir visualizar o fluxo de conversa do seu chatbot.\n",
    "\n",
    "Esta visualização é importante para verificar possíveis problemas na estrutura do seu chatbot e se ele realmente chega em determinadas \"**falas**\" da conversa."
   ]
  },
  {
   "cell_type": "code",
   "execution_count": 2,
   "metadata": {},
   "outputs": [
    {
     "name": "stdout",
     "output_type": "stream",
     "text": [
      "/usr/local/lib/python3.6/runpy.py:125: RuntimeWarning: 'rasa_core.visualize' found in sys.modules after import of package 'rasa_core', but prior to execution of 'rasa_core.visualize'; this may result in unpredictable behaviour\n",
      "  warn(RuntimeWarning(msg))\n",
      "2019-07-21 15:59:59 \u001b[1;30mINFO    \u001b[0m \u001b[34mapscheduler.scheduler\u001b[0m  - Scheduler started\n",
      "\n",
      "WARNING: The TensorFlow contrib module will not be included in TensorFlow 2.0.\n",
      "For more information, please see:\n",
      "  * https://github.com/tensorflow/community/blob/master/rfcs/20180907-contrib-sunset.md\n",
      "  * https://github.com/tensorflow/addons\n",
      "If you depend on functionality not listed there, please file an issue.\n",
      "\n",
      "2019-07-21 15:59:59 \u001b[1;30mINFO    \u001b[0m \u001b[34m__main__\u001b[0m  - Starting to visualize stories...\n",
      "Processed Story Blocks: 100%|███| 34/34 [00:00<00:00, 8565.46it/s, # trackers=1]\n",
      "2019-07-21 16:00:00 \u001b[1;30mINFO    \u001b[0m \u001b[34m__main__\u001b[0m  - Finished graph creation. Saved into file:///work/notebooks/stories/chat_graph.html\n"
     ]
    }
   ],
   "source": [
    "!python -m rasa_core.visualize -d $COACH_DOMAIN_PATH -s $COACH_STORIES_PATH -o chat_graph.html"
   ]
  },
  {
   "cell_type": "markdown",
   "metadata": {},
   "source": [
    "O Rasa gerou uma página `html` com o grafo de conversa, para facilitar, você pode visualizar o grafo no arquivo `chat_graph.html` aqui na próxima celula.\n",
    "\n",
    "Use o mouse para dar zoom e arrastar sobre o conteúdo do grafo. Altere `width` e `height` se desejar.\n",
    "\n",
    "* Dica: caso você se perca com **zoom in** ou **zoom out** no grafo, apeas re-execute a célula abaixo e ele irá reaparecer na célula."
   ]
  },
  {
   "cell_type": "code",
   "execution_count": 3,
   "metadata": {},
   "outputs": [
    {
     "data": {
      "text/html": [
       "\n",
       "        <iframe\n",
       "            width=\"900\"\n",
       "            height=\"700\"\n",
       "            src=\"./chat_graph.html\"\n",
       "            frameborder=\"0\"\n",
       "            allowfullscreen\n",
       "        ></iframe>\n",
       "        "
      ],
      "text/plain": [
       "<IPython.lib.display.IFrame at 0x7fe798f0f0f0>"
      ]
     },
     "execution_count": 3,
     "metadata": {},
     "output_type": "execute_result"
    }
   ],
   "source": [
    "IFrame(src='./chat_graph.html', width=900, height=700)"
   ]
  },
  {
   "cell_type": "markdown",
   "metadata": {},
   "source": [
    "### Avaliação das Stories\n",
    "\n",
    "Outra forma de analisar seu chatbot é por meio da própria avaliação do Rasa, ele gera uma matriz de confuzão com os dados fornecidos nas `stories` e do resultado do treinamento armazenado na pasta `models`."
   ]
  },
  {
   "cell_type": "markdown",
   "metadata": {},
   "source": [
    "* Caso você ainda não tenha treinado seu chatbot execute a céclula abaixo para treina-lo."
   ]
  },
  {
   "cell_type": "code",
   "execution_count": 4,
   "metadata": {
    "scrolled": true
   },
   "outputs": [
    {
     "name": "stdout",
     "output_type": "stream",
     "text": [
      "make: Entering directory '/work/coach'\n",
      "python3 -m rasa_nlu.train -c nlu_config.yml --fixed_model_name current \\\n",
      "--data data/intents/ -o /src_models --project nlu --verbose\n",
      "/usr/local/lib/python3.6/runpy.py:125: RuntimeWarning: 'rasa_nlu.train' found in sys.modules after import of package 'rasa_nlu', but prior to execution of 'rasa_nlu.train'; this may result in unpredictable behaviour\n",
      "  warn(RuntimeWarning(msg))\n",
      "2019-07-21 16:00:02 \u001b[1;30mINFO    \u001b[0m \u001b[34mrasa_nlu.training_data.loading\u001b[0m  - Training data format of data/intents/actions.md is md\n",
      "2019-07-21 16:00:02 \u001b[1;30mINFO    \u001b[0m \u001b[34mrasa_nlu.training_data.training_data\u001b[0m  - Training data stats: \n",
      "\t- intent examples: 6 (1 distinct intents)\n",
      "\t- Found intents: 'action_test'\n",
      "\t- entity examples: 0 (0 distinct entities)\n",
      "\t- found entities: \n",
      "\n",
      "2019-07-21 16:00:02 \u001b[1;30mINFO    \u001b[0m \u001b[34mrasa_nlu.training_data.loading\u001b[0m  - Training data format of data/intents/aleatorio.md is md\n",
      "2019-07-21 16:00:02 \u001b[1;30mINFO    \u001b[0m \u001b[34mrasa_nlu.training_data.training_data\u001b[0m  - Training data stats: \n",
      "\t- intent examples: 197 (24 distinct intents)\n",
      "\t- Found intents: 'filme', 'hobby', 'risada', 'linguagens', 'relationship', 'esporte', 'onde_voce_mora', 'genero', 'religiao', 'playlist', 'triste', 'como_estou', 'license', 'cor', 'de_onde_voce_eh', 'comida', 'signo', 'me', 'filhos', 'star_wars', 'time', 'bff', 'piada', 'historia'\n",
      "\t- entity examples: 172 (22 distinct entities)\n",
      "\t- found entities: 'filme', 'hobby', 'linguagens', 'live', 'esporte', 'starwars', 'cor', 'comida', 'how', 'me', 'bff', 'piada', 'where', 'relationship', 'genero', 'playlist', 'religiao', 'triste', 'license', 'signo', 'filhos', 'historia'\n",
      "\n",
      "2019-07-21 16:00:02 \u001b[1;30mINFO    \u001b[0m \u001b[34mrasa_nlu.training_data.loading\u001b[0m  - Training data format of data/intents/geral.md is md\n",
      "2019-07-21 16:00:02 \u001b[1;30mINFO    \u001b[0m \u001b[34mrasa_nlu.training_data.training_data\u001b[0m  - Training data stats: \n",
      "\t- intent examples: 85 (7 distinct intents)\n",
      "\t- Found intents: 'tudo_bem', 'despedir', 'out_of_scope', 'cumprimentar', 'elogios', 'diga_mais', 'negar'\n",
      "\t- entity examples: 0 (0 distinct entities)\n",
      "\t- found entities: \n",
      "\n",
      "2019-07-21 16:00:02 \u001b[1;30mINFO    \u001b[0m \u001b[34mrasa_nlu.training_data.training_data\u001b[0m  - Training data stats: \n",
      "\t- intent examples: 288 (32 distinct intents)\n",
      "\t- Found intents: 'filme', 'out_of_scope', 'despedir', 'hobby', 'risada', 'linguagens', 'cumprimentar', 'esporte', 'onde_voce_mora', 'negar', 'cor', 'de_onde_voce_eh', 'comida', 'me', 'diga_mais', 'star_wars', 'time', 'bff', 'piada', 'action_test', 'tudo_bem', 'elogios', 'relationship', 'genero', 'religiao', 'playlist', 'triste', 'como_estou', 'license', 'signo', 'filhos', 'historia'\n",
      "\t- entity examples: 172 (22 distinct entities)\n",
      "\t- found entities: 'filme', 'hobby', 'linguagens', 'live', 'esporte', 'starwars', 'cor', 'comida', 'how', 'me', 'bff', 'piada', 'where', 'relationship', 'genero', 'playlist', 'religiao', 'triste', 'license', 'signo', 'filhos', 'historia'\n",
      "\n",
      "2019-07-21 16:00:02 \u001b[1;30mINFO    \u001b[0m \u001b[34mrasa_nlu.model\u001b[0m  - Starting to train component WhitespaceTokenizer\n",
      "2019-07-21 16:00:02 \u001b[1;30mINFO    \u001b[0m \u001b[34mrasa_nlu.model\u001b[0m  - Finished training component.\n",
      "2019-07-21 16:00:02 \u001b[1;30mINFO    \u001b[0m \u001b[34mrasa_nlu.model\u001b[0m  - Starting to train component CRFEntityExtractor\n",
      "2019-07-21 16:00:03 \u001b[1;30mINFO    \u001b[0m \u001b[34mrasa_nlu.model\u001b[0m  - Finished training component.\n",
      "2019-07-21 16:00:03 \u001b[1;30mINFO    \u001b[0m \u001b[34mrasa_nlu.model\u001b[0m  - Starting to train component EntitySynonymMapper\n",
      "2019-07-21 16:00:03 \u001b[1;30mINFO    \u001b[0m \u001b[34mrasa_nlu.model\u001b[0m  - Finished training component.\n",
      "2019-07-21 16:00:03 \u001b[1;30mINFO    \u001b[0m \u001b[34mrasa_nlu.model\u001b[0m  - Starting to train component CountVectorsFeaturizer\n",
      "2019-07-21 16:00:03 \u001b[1;30mINFO    \u001b[0m \u001b[34mrasa_nlu.model\u001b[0m  - Finished training component.\n",
      "2019-07-21 16:00:03 \u001b[1;30mINFO    \u001b[0m \u001b[34mrasa_nlu.model\u001b[0m  - Starting to train component EmbeddingIntentClassifier\n",
      "\n",
      "WARNING: The TensorFlow contrib module will not be included in TensorFlow 2.0.\n",
      "For more information, please see:\n",
      "  * https://github.com/tensorflow/community/blob/master/rfcs/20180907-contrib-sunset.md\n",
      "  * https://github.com/tensorflow/addons\n",
      "If you depend on functionality not listed there, please file an issue.\n",
      "\n",
      "2019-07-21 16:00:03 \u001b[1;30mWARNING \u001b[0m \u001b[34mtensorflow\u001b[0m  - \u001b[33mFrom /usr/local/lib/python3.6/site-packages/rasa_nlu/classifiers/embedding_intent_classifier.py:285: dense (from tensorflow.python.layers.core) is deprecated and will be removed in a future version.\n",
      "Instructions for updating:\n",
      "Use keras.layers.dense instead.\u001b[0m\n",
      "2019-07-21 16:00:03 \u001b[1;30mWARNING \u001b[0m \u001b[34mtensorflow\u001b[0m  - \u001b[33mFrom /usr/local/lib/python3.6/site-packages/tensorflow/python/framework/op_def_library.py:263: colocate_with (from tensorflow.python.framework.ops) is deprecated and will be removed in a future version.\n",
      "Instructions for updating:\n",
      "Colocations handled automatically by placer.\u001b[0m\n",
      "2019-07-21 16:00:03 \u001b[1;30mWARNING \u001b[0m \u001b[34mtensorflow\u001b[0m  - \u001b[33mFrom /usr/local/lib/python3.6/site-packages/rasa_nlu/classifiers/embedding_intent_classifier.py:286: dropout (from tensorflow.python.layers.core) is deprecated and will be removed in a future version.\n",
      "Instructions for updating:\n",
      "Use keras.layers.dropout instead.\u001b[0m\n",
      "2019-07-21 16:00:03 \u001b[1;30mWARNING \u001b[0m \u001b[34mtensorflow\u001b[0m  - \u001b[33mFrom /usr/local/lib/python3.6/site-packages/tensorflow/python/keras/layers/core.py:143: calling dropout (from tensorflow.python.ops.nn_ops) with keep_prob is deprecated and will be removed in a future version.\n",
      "Instructions for updating:\n",
      "Please use `rate` instead of `keep_prob`. Rate should be set to `rate = 1 - keep_prob`.\u001b[0m\n",
      "2019-07-21 16:00:04 \u001b[1;30mWARNING \u001b[0m \u001b[34mtensorflow\u001b[0m  - \u001b[33mFrom /usr/local/lib/python3.6/site-packages/tensorflow/python/ops/math_ops.py:3066: to_int32 (from tensorflow.python.ops.math_ops) is deprecated and will be removed in a future version.\n",
      "Instructions for updating:\n",
      "Use tf.cast instead.\u001b[0m\n",
      "2019-07-21 16:00:04 \u001b[1;30mWARNING \u001b[0m \u001b[34mtensorflow\u001b[0m  - \u001b[33mFrom /usr/local/lib/python3.6/site-packages/tensorflow/python/ops/math_grad.py:102: div (from tensorflow.python.ops.math_ops) is deprecated and will be removed in a future version.\n",
      "Instructions for updating:\n",
      "Deprecated in favor of operator or tf.math.divide.\u001b[0m\n",
      "2019-07-21 16:00:04.576586: I tensorflow/core/platform/cpu_feature_guard.cc:141] Your CPU supports instructions that this TensorFlow binary was not compiled to use: AVX2 FMA\n",
      "2019-07-21 16:00:04.595249: I tensorflow/core/platform/profile_utils/cpu_utils.cc:94] CPU Frequency: 2905000000 Hz\n",
      "2019-07-21 16:00:04.595509: I tensorflow/compiler/xla/service/service.cc:150] XLA service 0x557cfd5b9720 executing computations on platform Host. Devices:\n",
      "2019-07-21 16:00:04.595533: I tensorflow/compiler/xla/service/service.cc:158]   StreamExecutor device (0): <undefined>, <undefined>\n",
      "2019-07-21 16:00:04 \u001b[1;30mINFO    \u001b[0m \u001b[34mrasa_nlu.classifiers.embedding_intent_classifier\u001b[0m  - Accuracy is updated every 10 epochs\n",
      "Epochs: 100%|██████████| 300/300 [00:07<00:00, 38.51it/s, loss=0.102, acc=0.993]\n",
      "2019-07-21 16:00:12 \u001b[1;30mINFO    \u001b[0m \u001b[34mrasa_nlu.classifiers.embedding_intent_classifier\u001b[0m  - Finished training embedding classifier, loss=0.102, train accuracy=0.993\n",
      "2019-07-21 16:00:12 \u001b[1;30mINFO    \u001b[0m \u001b[34mrasa_nlu.model\u001b[0m  - Finished training component.\n",
      "2019-07-21 16:00:12 \u001b[1;30mINFO    \u001b[0m \u001b[34mrasa_nlu.model\u001b[0m  - Successfully saved model into '/src_models/nlu/current'\n",
      "2019-07-21 16:00:12 \u001b[1;30mINFO    \u001b[0m \u001b[34m__main__\u001b[0m  - Finished training\n",
      "python3 train.py\n",
      "2019-07-21 16:00:14 \u001b[1;30mINFO    \u001b[0m \u001b[34mapscheduler.scheduler\u001b[0m  - Scheduler started\n",
      "2019-07-21 16:00:14 \u001b[1;30mDEBUG   \u001b[0m \u001b[34mapscheduler.scheduler\u001b[0m  - Looking for jobs to run\n",
      "2019-07-21 16:00:14 \u001b[1;30mDEBUG   \u001b[0m \u001b[34mapscheduler.scheduler\u001b[0m  - No jobs; waiting until a job is added\n",
      "\n",
      "WARNING: The TensorFlow contrib module will not be included in TensorFlow 2.0.\n",
      "For more information, please see:\n",
      "  * https://github.com/tensorflow/community/blob/master/rfcs/20180907-contrib-sunset.md\n",
      "  * https://github.com/tensorflow/addons\n",
      "If you depend on functionality not listed there, please file an issue.\n",
      "\n",
      "2019-07-21 16:00:15 \u001b[1;30mDEBUG   \u001b[0m \u001b[34mrasa_core.training.generator\u001b[0m  - Number of augmentation rounds is 3\n",
      "2019-07-21 16:00:15 \u001b[1;30mDEBUG   \u001b[0m \u001b[34mrasa_core.training.generator\u001b[0m  - Starting data generation round 0 ... (with 1 trackers)\n",
      "Processed Story Blocks: 100%|███| 34/34 [00:00<00:00, 7395.44it/s, # trackers=1]\n",
      "2019-07-21 16:00:15 \u001b[1;30mDEBUG   \u001b[0m \u001b[34mrasa_core.training.generator\u001b[0m  - Finished phase (34 training samples found).\n",
      "2019-07-21 16:00:15 \u001b[1;30mDEBUG   \u001b[0m \u001b[34mrasa_core.training.generator\u001b[0m  - Data generation rounds finished.\n",
      "2019-07-21 16:00:15 \u001b[1;30mDEBUG   \u001b[0m \u001b[34mrasa_core.training.generator\u001b[0m  - Found 0 unused checkpoints\n",
      "2019-07-21 16:00:15 \u001b[1;30mDEBUG   \u001b[0m \u001b[34mrasa_core.training.generator\u001b[0m  - Starting augmentation round 0 ... (with 34 trackers)\n"
     ]
    },
    {
     "name": "stdout",
     "output_type": "stream",
     "text": [
      "Processed Story Blocks: 100%|███| 34/34 [00:00<00:00, 336.62it/s, # trackers=34]\n",
      "2019-07-21 16:00:15 \u001b[1;30mDEBUG   \u001b[0m \u001b[34mrasa_core.training.generator\u001b[0m  - Finished phase (1187 training samples found).\n",
      "2019-07-21 16:00:15 \u001b[1;30mDEBUG   \u001b[0m \u001b[34mrasa_core.training.generator\u001b[0m  - Starting augmentation round 1 ... (with 50 trackers)\n",
      "Processed Story Blocks: 100%|███| 34/34 [00:00<00:00, 168.58it/s, # trackers=50]\n",
      "2019-07-21 16:00:15 \u001b[1;30mDEBUG   \u001b[0m \u001b[34mrasa_core.training.generator\u001b[0m  - Finished phase (2816 training samples found).\n",
      "2019-07-21 16:00:15 \u001b[1;30mDEBUG   \u001b[0m \u001b[34mrasa_core.training.generator\u001b[0m  - Starting augmentation round 2 ... (with 50 trackers)\n",
      "Processed Story Blocks: 100%|███| 34/34 [00:00<00:00, 138.21it/s, # trackers=50]\n",
      "2019-07-21 16:00:15 \u001b[1;30mDEBUG   \u001b[0m \u001b[34mrasa_core.training.generator\u001b[0m  - Finished phase (4448 training samples found).\n",
      "2019-07-21 16:00:15 \u001b[1;30mDEBUG   \u001b[0m \u001b[34mrasa_core.training.generator\u001b[0m  - Found 4448 training trackers.\n",
      "2019-07-21 16:00:15 \u001b[1;30mDEBUG   \u001b[0m \u001b[34mrasa_core.training.generator\u001b[0m  - Subsampled to 500 augmented training trackers.\n",
      "2019-07-21 16:00:15 \u001b[1;30mDEBUG   \u001b[0m \u001b[34mrasa_core.training.generator\u001b[0m  - There are 34 original trackers.\n",
      "2019-07-21 16:00:15 \u001b[1;30mDEBUG   \u001b[0m \u001b[34mrasa_core.agent\u001b[0m  - Agent trainer got kwargs: {'validation_split': 0.2}\n",
      "2019-07-21 16:00:15 \u001b[1;30mDEBUG   \u001b[0m \u001b[34mrasa_core.featurizers\u001b[0m  - Creating states and action examples from collected trackers (by FullDialogueTrackerFeaturizer(LabelTokenizerSingleStateFeaturizer))...\n",
      "Processed trackers: 100%|██████████████████| 534/534 [00:00<00:00, 33828.10it/s]\n",
      "2019-07-21 16:00:15 \u001b[1;30mDEBUG   \u001b[0m \u001b[34mrasa_core.featurizers\u001b[0m  - The longest dialogue has 13 actions.\n",
      "2019-07-21 16:00:16.004508: I tensorflow/core/platform/cpu_feature_guard.cc:141] Your CPU supports instructions that this TensorFlow binary was not compiled to use: AVX2 FMA\n",
      "2019-07-21 16:00:16.022315: I tensorflow/core/platform/profile_utils/cpu_utils.cc:94] CPU Frequency: 2905000000 Hz\n",
      "2019-07-21 16:00:16.023230: I tensorflow/compiler/xla/service/service.cc:150] XLA service 0x561517ed5180 executing computations on platform Host. Devices:\n",
      "2019-07-21 16:00:16.023337: I tensorflow/compiler/xla/service/service.cc:158]   StreamExecutor device (0): <undefined>, <undefined>\n",
      "2019-07-21 16:00:16 \u001b[1;30mWARNING \u001b[0m \u001b[34mtensorflow\u001b[0m  - \u001b[33mFrom /usr/local/lib/python3.6/site-packages/tensorflow/python/ops/resource_variable_ops.py:435: colocate_with (from tensorflow.python.framework.ops) is deprecated and will be removed in a future version.\n",
      "Instructions for updating:\n",
      "Colocations handled automatically by placer.\u001b[0m\n",
      "2019-07-21 16:00:16 \u001b[1;30mWARNING \u001b[0m \u001b[34mtensorflow\u001b[0m  - \u001b[33mFrom /usr/local/lib/python3.6/site-packages/tensorflow/python/keras/backend.py:4010: calling dropout (from tensorflow.python.ops.nn_ops) with keep_prob is deprecated and will be removed in a future version.\n",
      "Instructions for updating:\n",
      "Please use `rate` instead of `keep_prob`. Rate should be set to `rate = 1 - keep_prob`.\u001b[0m\n",
      "_________________________________________________________________\n",
      "Layer (type)                 Output Shape              Param #   \n",
      "=================================================================\n",
      "masking (Masking)            (None, None, 99)          0         \n",
      "_________________________________________________________________\n",
      "lstm (LSTM)                  (None, None, 32)          16896     \n",
      "_________________________________________________________________\n",
      "time_distributed (TimeDistri (None, None, 39)          1287      \n",
      "_________________________________________________________________\n",
      "activation (Activation)      (None, None, 39)          0         \n",
      "=================================================================\n",
      "Total params: 18,183\n",
      "Trainable params: 18,183\n",
      "Non-trainable params: 0\n",
      "_________________________________________________________________\n",
      "2019-07-21 16:00:16 \u001b[1;30mDEBUG   \u001b[0m \u001b[34mrasa_core.policies.keras_policy\u001b[0m  - None\n",
      "2019-07-21 16:00:16 \u001b[1;30mINFO    \u001b[0m \u001b[34mrasa_core.policies.keras_policy\u001b[0m  - Fitting model with 534 total samples and a validation split of 0.1\n",
      "2019-07-21 16:00:16 \u001b[1;30mDEBUG   \u001b[0m \u001b[34mrasa_core.policies.policy\u001b[0m  - Parameters ignored by `model.fit(...)`: {}\n",
      "2019-07-21 16:00:16 \u001b[1;30mWARNING \u001b[0m \u001b[34mtensorflow\u001b[0m  - \u001b[33mFrom /usr/local/lib/python3.6/site-packages/tensorflow/python/ops/math_ops.py:3066: to_int32 (from tensorflow.python.ops.math_ops) is deprecated and will be removed in a future version.\n",
      "Instructions for updating:\n",
      "Use tf.cast instead.\u001b[0m\n",
      "2019-07-21 16:00:16 \u001b[1;30mWARNING \u001b[0m \u001b[34mtensorflow\u001b[0m  - \u001b[33mFrom /usr/local/lib/python3.6/site-packages/tensorflow/python/ops/math_grad.py:102: div (from tensorflow.python.ops.math_ops) is deprecated and will be removed in a future version.\n",
      "Instructions for updating:\n",
      "Deprecated in favor of operator or tf.math.divide.\u001b[0m\n",
      "Epoch 1/20\n",
      "534/534 [==============================] - 1s 2ms/sample - loss: 3.1426 - acc: 0.5262\n",
      "Epoch 2/20\n",
      "534/534 [==============================] - 0s 803us/sample - loss: 2.5297 - acc: 0.5674\n",
      "Epoch 3/20\n",
      "534/534 [==============================] - 0s 778us/sample - loss: 2.2765 - acc: 0.5674\n",
      "Epoch 4/20\n",
      "534/534 [==============================] - 0s 838us/sample - loss: 2.0276 - acc: 0.5674\n",
      "Epoch 5/20\n",
      "534/534 [==============================] - 0s 783us/sample - loss: 1.8143 - acc: 0.5832\n",
      "Epoch 6/20\n",
      "534/534 [==============================] - 0s 857us/sample - loss: 1.6631 - acc: 0.6254\n",
      "Epoch 7/20\n",
      "534/534 [==============================] - 1s 1ms/sample - loss: 1.5374 - acc: 0.6498\n",
      "Epoch 8/20\n",
      "534/534 [==============================] - 0s 824us/sample - loss: 1.4109 - acc: 0.6801\n",
      "Epoch 9/20\n",
      "534/534 [==============================] - 0s 787us/sample - loss: 1.2632 - acc: 0.7074\n",
      "Epoch 10/20\n",
      "534/534 [==============================] - 1s 1ms/sample - loss: 1.1113 - acc: 0.7490\n",
      "Epoch 11/20\n",
      "534/534 [==============================] - 1s 1ms/sample - loss: 0.9539 - acc: 0.8078\n",
      "Epoch 12/20\n",
      "534/534 [==============================] - 0s 835us/sample - loss: 0.7986 - acc: 0.8678\n",
      "Epoch 13/20\n",
      "534/534 [==============================] - 1s 986us/sample - loss: 0.6731 - acc: 0.8973\n",
      "Epoch 14/20\n",
      "534/534 [==============================] - 1s 1ms/sample - loss: 0.5365 - acc: 0.9243\n",
      "Epoch 15/20\n",
      "534/534 [==============================] - 0s 889us/sample - loss: 0.4257 - acc: 0.9412\n",
      "Epoch 16/20\n",
      "534/534 [==============================] - 1s 1ms/sample - loss: 0.3643 - acc: 0.9435\n",
      "Epoch 17/20\n",
      "534/534 [==============================] - 1s 1ms/sample - loss: 0.2892 - acc: 0.9586\n",
      "Epoch 18/20\n",
      "534/534 [==============================] - 0s 913us/sample - loss: 0.2452 - acc: 0.9619\n",
      "Epoch 19/20\n",
      "534/534 [==============================] - 0s 907us/sample - loss: 0.2294 - acc: 0.9644\n",
      "Epoch 20/20\n",
      "534/534 [==============================] - 0s 931us/sample - loss: 0.2040 - acc: 0.9670\n",
      "2019-07-21 16:00:28 \u001b[1;30mINFO    \u001b[0m \u001b[34mrasa_core.policies.keras_policy\u001b[0m  - Done fitting keras policy model\n",
      "2019-07-21 16:00:28 \u001b[1;30mDEBUG   \u001b[0m \u001b[34mrasa_core.featurizers\u001b[0m  - Creating states and action examples from collected trackers (by MaxHistoryTrackerFeaturizer(SingleStateFeaturizer))...\n",
      "Processed trackers: 100%|███████| 34/34 [00:00<00:00, 5997.91it/s, # actions=68]\n",
      "2019-07-21 16:00:28 \u001b[1;30mDEBUG   \u001b[0m \u001b[34mrasa_core.featurizers\u001b[0m  - Created 68 action examples.\n",
      "Processed actions: 68it [00:00, 10359.32it/s, # examples=68]\n",
      "2019-07-21 16:00:28 \u001b[1;30mDEBUG   \u001b[0m \u001b[34mrasa_core.policies.memoization\u001b[0m  - Memorized 68 unique examples.\n",
      "2019-07-21 16:00:28 \u001b[1;30mINFO    \u001b[0m \u001b[34mrasa_core.agent\u001b[0m  - Model directory /src_models/dialogue exists and contains old model files. All files will be overwritten.\n",
      "2019-07-21 16:00:28 \u001b[1;30mINFO    \u001b[0m \u001b[34mrasa_core.agent\u001b[0m  - Persisted model to '/src_models/dialogue'\n",
      "make: Leaving directory '/work/coach'\n"
     ]
    }
   ],
   "source": [
    "!make train -C $COACH_DIR_PATH"
   ]
  },
  {
   "cell_type": "markdown",
   "metadata": {},
   "source": [
    "* `rasa_core.evaluate` é o método utilizado para verificar a qualidade das suas `stories`."
   ]
  },
  {
   "cell_type": "code",
   "execution_count": 5,
   "metadata": {
    "scrolled": true
   },
   "outputs": [
    {
     "name": "stdout",
     "output_type": "stream",
     "text": [
      "Calling `rasa_core.evaluate` is deprecated. Please use `rasa_core.test` instead.\n",
      "\n",
      "WARNING: The TensorFlow contrib module will not be included in TensorFlow 2.0.\n",
      "For more information, please see:\n",
      "  * https://github.com/tensorflow/community/blob/master/rfcs/20180907-contrib-sunset.md\n",
      "  * https://github.com/tensorflow/addons\n",
      "If you depend on functionality not listed there, please file an issue.\n",
      "\n",
      "2019-07-21 16:00:32.795790: I tensorflow/core/platform/cpu_feature_guard.cc:141] Your CPU supports instructions that this TensorFlow binary was not compiled to use: AVX2 FMA\n",
      "2019-07-21 16:00:32.815429: I tensorflow/core/platform/profile_utils/cpu_utils.cc:94] CPU Frequency: 2905000000 Hz\n",
      "2019-07-21 16:00:32.815816: I tensorflow/compiler/xla/service/service.cc:150] XLA service 0x55b9d867ce70 executing computations on platform Host. Devices:\n",
      "2019-07-21 16:00:32.815854: I tensorflow/compiler/xla/service/service.cc:158]   StreamExecutor device (0): <undefined>, <undefined>\n",
      "WARNING:tensorflow:From /usr/local/lib/python3.6/site-packages/tensorflow/python/ops/resource_variable_ops.py:435: colocate_with (from tensorflow.python.framework.ops) is deprecated and will be removed in a future version.\n",
      "Instructions for updating:\n",
      "Colocations handled automatically by placer.\n",
      "WARNING:tensorflow:From /usr/local/lib/python3.6/site-packages/tensorflow/python/ops/resource_variable_ops.py:435: colocate_with (from tensorflow.python.framework.ops) is deprecated and will be removed in a future version.\n",
      "Instructions for updating:\n",
      "Colocations handled automatically by placer.\n",
      "WARNING:tensorflow:From /usr/local/lib/python3.6/site-packages/tensorflow/python/keras/backend.py:4010: calling dropout (from tensorflow.python.ops.nn_ops) with keep_prob is deprecated and will be removed in a future version.\n",
      "Instructions for updating:\n",
      "Please use `rate` instead of `keep_prob`. Rate should be set to `rate = 1 - keep_prob`.\n",
      "WARNING:tensorflow:From /usr/local/lib/python3.6/site-packages/tensorflow/python/keras/backend.py:4010: calling dropout (from tensorflow.python.ops.nn_ops) with keep_prob is deprecated and will be removed in a future version.\n",
      "Instructions for updating:\n",
      "Please use `rate` instead of `keep_prob`. Rate should be set to `rate = 1 - keep_prob`.\n",
      "WARNING:tensorflow:From /usr/local/lib/python3.6/site-packages/tensorflow/python/ops/math_ops.py:3066: to_int32 (from tensorflow.python.ops.math_ops) is deprecated and will be removed in a future version.\n",
      "Instructions for updating:\n",
      "Use tf.cast instead.\n",
      "WARNING:tensorflow:From /usr/local/lib/python3.6/site-packages/tensorflow/python/ops/math_ops.py:3066: to_int32 (from tensorflow.python.ops.math_ops) is deprecated and will be removed in a future version.\n",
      "Instructions for updating:\n",
      "Use tf.cast instead.\n",
      "WARNING:tensorflow:From /usr/local/lib/python3.6/site-packages/tensorflow/python/ops/math_grad.py:102: div (from tensorflow.python.ops.math_ops) is deprecated and will be removed in a future version.\n",
      "Instructions for updating:\n",
      "Deprecated in favor of operator or tf.math.divide.\n",
      "WARNING:tensorflow:From /usr/local/lib/python3.6/site-packages/tensorflow/python/ops/math_grad.py:102: div (from tensorflow.python.ops.math_ops) is deprecated and will be removed in a future version.\n",
      "Instructions for updating:\n",
      "Deprecated in favor of operator or tf.math.divide.\n",
      "Processed Story Blocks: 100%|███| 34/34 [00:00<00:00, 5602.73it/s, # trackers=1]\n",
      "INFO:rasa_core.test:Evaluating 34 stories\n",
      "Progress:\n",
      "100%|███████████████████████████████████████████| 34/34 [00:00<00:00, 68.18it/s]\n",
      "INFO:rasa_core.test:Finished collecting predictions.\n",
      "INFO:rasa_core.test:Evaluation Results on CONVERSATION level:\n",
      "INFO:rasa_core.test:\tCorrect:          34 / 34\n",
      "INFO:rasa_core.test:\tF1-Score:         1.000\n",
      "INFO:rasa_core.test:\tPrecision:        1.000\n",
      "INFO:rasa_core.test:\tAccuracy:         1.000\n",
      "INFO:rasa_core.test:\tIn-data fraction: 1\n",
      "INFO:rasa_core.test:Evaluation Results on ACTION level:\n",
      "INFO:rasa_core.test:\tCorrect:          76 / 76\n",
      "INFO:rasa_core.test:\tF1-Score:         1.000\n",
      "INFO:rasa_core.test:\tPrecision:        1.000\n",
      "INFO:rasa_core.test:\tAccuracy:         1.000\n",
      "INFO:rasa_core.test:\tIn-data fraction: 1\n",
      "INFO:rasa_core.test:\tClassification report: \n",
      "                       precision    recall  f1-score   support\n",
      "\n",
      "        action_listen       1.00      1.00      1.00        38\n",
      "          action_test       1.00      1.00      1.00         2\n",
      "            utter_bff       1.00      1.00      1.00         1\n",
      "         utter_comida       1.00      1.00      1.00         1\n",
      "     utter_como_estou       1.00      1.00      1.00         1\n",
      "            utter_cor       1.00      1.00      1.00         1\n",
      "   utter_cumprimentar       1.00      1.00      1.00         4\n",
      "utter_de_onde_voce_eh       1.00      1.00      1.00         1\n",
      "        utter_default       1.00      1.00      1.00         1\n",
      "       utter_despedir       1.00      1.00      1.00         3\n",
      "      utter_diga_mais       1.00      1.00      1.00         1\n",
      "        utter_elogios       1.00      1.00      1.00         1\n",
      "        utter_esporte       1.00      1.00      1.00         1\n",
      "         utter_filhos       1.00      1.00      1.00         1\n",
      "          utter_filme       1.00      1.00      1.00         1\n",
      "         utter_genero       1.00      1.00      1.00         1\n",
      "       utter_historia       1.00      1.00      1.00         1\n",
      "          utter_hobby       1.00      1.00      1.00         1\n",
      "        utter_license       1.00      1.00      1.00         1\n",
      "     utter_linguagens       1.00      1.00      1.00         1\n",
      "             utter_me       1.00      1.00      1.00         1\n",
      " utter_onde_voce_mora       1.00      1.00      1.00         1\n",
      "          utter_piada       1.00      1.00      1.00         1\n",
      "       utter_playlist       1.00      1.00      1.00         1\n",
      "   utter_relationship       1.00      1.00      1.00         1\n",
      "       utter_religiao       1.00      1.00      1.00         1\n",
      "         utter_risada       1.00      1.00      1.00         1\n",
      "          utter_signo       1.00      1.00      1.00         1\n",
      "      utter_star_wars       1.00      1.00      1.00         1\n",
      "           utter_time       1.00      1.00      1.00         1\n",
      "         utter_triste       1.00      1.00      1.00         1\n",
      "       utter_tudo_bem       1.00      1.00      1.00         2\n",
      "\n",
      "            micro avg       1.00      1.00      1.00        76\n",
      "            macro avg       1.00      1.00      1.00        76\n",
      "         weighted avg       1.00      1.00      1.00        76\n",
      "\n",
      "INFO:rasa_nlu.test:Confusion matrix, without normalization: \n",
      "[[38  0  0 ...  0  0  0]\n",
      " [ 0  2  0 ...  0  0  0]\n",
      " [ 0  0  1 ...  0  0  0]\n",
      " ...\n",
      " [ 0  0  0 ...  1  0  0]\n",
      " [ 0  0  0 ...  0  1  0]\n",
      " [ 0  0  0 ...  0  0  2]]\n",
      "INFO:rasa_core.test:Finished evaluation\n"
     ]
    }
   ],
   "source": [
    "!python -m rasa_core.evaluate --core $COACH_MODELS_DIALOGUE_PATH -s $COACH_STORIES_PATH -o results"
   ]
  },
  {
   "cell_type": "markdown",
   "metadata": {},
   "source": [
    "* Caso algum problme seja encotrado ele será descrito no arquivo `failed_stories.md`"
   ]
  },
  {
   "cell_type": "code",
   "execution_count": 6,
   "metadata": {},
   "outputs": [
    {
     "name": "stdout",
     "output_type": "stream",
     "text": [
      "<!-- All stories passed -->"
     ]
    }
   ],
   "source": [
    "!cat results/failed_stories.md"
   ]
  },
  {
   "cell_type": "markdown",
   "metadata": {},
   "source": [
    "* Se tudo estiver correto você deverá ver a mensagem:\n",
    "\n",
    "`<!-- All stories passed -->`"
   ]
  },
  {
   "cell_type": "markdown",
   "metadata": {},
   "source": [
    "* Outro arquivo gerado é  o `story_confmat.pdf` uma matriz de confuzão onde é possível visualizar a relação entre as `utters` (mensagens enviadas .\n",
    "`Para visualizar a matriz de confuzão neste notebook, abra-o com firefox`."
   ]
  },
  {
   "cell_type": "code",
   "execution_count": 7,
   "metadata": {},
   "outputs": [
    {
     "data": {
      "text/html": [
       "\n",
       "        <iframe\n",
       "            width=\"900\"\n",
       "            height=\"900\"\n",
       "            src=\"results/story_confmat.pdf\"\n",
       "            frameborder=\"0\"\n",
       "            allowfullscreen\n",
       "        ></iframe>\n",
       "        "
      ],
      "text/plain": [
       "<IPython.lib.display.IFrame at 0x7fe798f0fb38>"
      ]
     },
     "execution_count": 7,
     "metadata": {},
     "output_type": "execute_result"
    }
   ],
   "source": [
    "from IPython.display import IFrame\n",
    "IFrame(\"results/story_confmat.pdf\", width=900, height=900)"
   ]
  },
  {
   "cell_type": "markdown",
   "metadata": {},
   "source": [
    "## Referências:\n",
    "\n",
    "O Rasa está em constante evolução, alguns links úteis para a construção deste jupyter-notebook e para a análise das `stories` são:\n",
    "\n",
    "* [Evaluation](https://rasa.com/docs/core/evaluation/)\n",
    "* [Debugging](https://rasa.com/docs/core/debugging/)"
   ]
  },
  {
   "cell_type": "code",
   "execution_count": null,
   "metadata": {},
   "outputs": [],
   "source": []
  }
 ],
 "metadata": {
  "colab": {
   "collapsed_sections": [
    "y4miuS-TqYcn",
    "BBF6Nqi9scQE",
    "Fs3nOUzBsqrG",
    "5MnGuFRpzzBh"
   ],
   "default_view": {},
   "name": "Building a Simple Bot with Rasa Stack - Tutorial",
   "provenance": [
    {
     "file_id": "1GutDkDXmfU-nRzNH7Pxxx8YpdvLUw9LO",
     "timestamp": 1521183725373
    }
   ],
   "toc_visible": true,
   "version": "0.3.2",
   "views": {}
  },
  "kernelspec": {
   "display_name": "Python 3",
   "language": "python",
   "name": "python3"
  },
  "language_info": {
   "codemirror_mode": {
    "name": "ipython",
    "version": 3
   },
   "file_extension": ".py",
   "mimetype": "text/x-python",
   "name": "python",
   "nbconvert_exporter": "python",
   "pygments_lexer": "ipython3",
   "version": "3.6.8"
  }
 },
 "nbformat": 4,
 "nbformat_minor": 1
}
