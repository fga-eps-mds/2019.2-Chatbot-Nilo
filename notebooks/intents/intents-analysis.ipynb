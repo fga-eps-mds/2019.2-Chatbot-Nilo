{
 "cells": [
  {
   "cell_type": "markdown",
   "metadata": {
    "colab_type": "text",
    "id": "kO9wt2g3okLS"
   },
   "source": [
    "# Análise das Intents\n",
    "\n",
    "Este jupyter-notebook vai auxiliar na análise de detecção de intenções de seu chatbot."
   ]
  },
  {
   "cell_type": "markdown",
   "metadata": {},
   "source": [
    "### Configurando e Imports"
   ]
  },
  {
   "cell_type": "code",
   "execution_count": 1,
   "metadata": {
    "scrolled": false
   },
   "outputs": [
    {
     "name": "stdout",
     "output_type": "stream",
     "text": [
      "rasa_nlu: 0.15.0\n"
     ]
    }
   ],
   "source": [
    "from IPython.display import IFrame\n",
    "\n",
    "import rasa_nlu\n",
    "print(\"rasa_nlu: {}\".format(rasa_nlu.__version__))"
   ]
  },
  {
   "cell_type": "markdown",
   "metadata": {
    "colab_type": "text",
    "id": "1xeXgpdwzOAl"
   },
   "source": [
    "### Treinando o modelo do Rasa NLU\n",
    "\n",
    "* Para avaliar o bot o primeiro passo é treiner o seu chatbot. Mas não é necessário treinar a parte de conversão completa (rasa_core) apenas a parte de interpretação de mensagens (rasa_nlu).\n",
    "\n",
    "* O comando `train-nlu` do Makefile executa o treinamento apenas do `rasa_nlu`"
   ]
  },
  {
   "cell_type": "code",
   "execution_count": 2,
   "metadata": {
    "scrolled": false
   },
   "outputs": [
    {
     "name": "stdout",
     "output_type": "stream",
     "text": [
      "make: Entering directory '/work/coach'\n",
      "python3 -m rasa_nlu.train -c nlu_config.yml --fixed_model_name current \\\n",
      "--data data/intents/ -o /src_models --project nlu --verbose\n",
      "/usr/local/lib/python3.6/runpy.py:125: RuntimeWarning: 'rasa_nlu.train' found in sys.modules after import of package 'rasa_nlu', but prior to execution of 'rasa_nlu.train'; this may result in unpredictable behaviour\n",
      "  warn(RuntimeWarning(msg))\n",
      "2019-07-21 15:59:31 \u001b[1;30mINFO    \u001b[0m \u001b[34mrasa_nlu.training_data.loading\u001b[0m  - Training data format of data/intents/actions.md is md\n",
      "2019-07-21 15:59:31 \u001b[1;30mINFO    \u001b[0m \u001b[34mrasa_nlu.training_data.training_data\u001b[0m  - Training data stats: \n",
      "\t- intent examples: 6 (1 distinct intents)\n",
      "\t- Found intents: 'action_test'\n",
      "\t- entity examples: 0 (0 distinct entities)\n",
      "\t- found entities: \n",
      "\n",
      "2019-07-21 15:59:31 \u001b[1;30mINFO    \u001b[0m \u001b[34mrasa_nlu.training_data.loading\u001b[0m  - Training data format of data/intents/aleatorio.md is md\n",
      "2019-07-21 15:59:31 \u001b[1;30mINFO    \u001b[0m \u001b[34mrasa_nlu.training_data.training_data\u001b[0m  - Training data stats: \n",
      "\t- intent examples: 197 (24 distinct intents)\n",
      "\t- Found intents: 'piada', 'religiao', 'onde_voce_mora', 'me', 'bff', 'time', 'playlist', 'genero', 'risada', 'filme', 'star_wars', 'filhos', 'como_estou', 'esporte', 'cor', 'signo', 'hobby', 'triste', 'linguagens', 'comida', 'historia', 'license', 'relationship', 'de_onde_voce_eh'\n",
      "\t- entity examples: 172 (22 distinct entities)\n",
      "\t- found entities: 'piada', 'genero', 'cor', 'triste', 'how', 'linguagens', 'starwars', 'license', 'relationship', 'where', 'religiao', 'me', 'bff', 'playlist', 'filme', 'filhos', 'esporte', 'live', 'hobby', 'signo', 'comida', 'historia'\n",
      "\n",
      "2019-07-21 15:59:31 \u001b[1;30mINFO    \u001b[0m \u001b[34mrasa_nlu.training_data.loading\u001b[0m  - Training data format of data/intents/geral.md is md\n",
      "2019-07-21 15:59:31 \u001b[1;30mINFO    \u001b[0m \u001b[34mrasa_nlu.training_data.training_data\u001b[0m  - Training data stats: \n",
      "\t- intent examples: 85 (7 distinct intents)\n",
      "\t- Found intents: 'diga_mais', 'out_of_scope', 'despedir', 'elogios', 'tudo_bem', 'negar', 'cumprimentar'\n",
      "\t- entity examples: 0 (0 distinct entities)\n",
      "\t- found entities: \n",
      "\n",
      "2019-07-21 15:59:31 \u001b[1;30mINFO    \u001b[0m \u001b[34mrasa_nlu.training_data.training_data\u001b[0m  - Training data stats: \n",
      "\t- intent examples: 288 (32 distinct intents)\n",
      "\t- Found intents: 'piada', 'action_test', 'despedir', 'elogios', 'time', 'genero', 'risada', 'cumprimentar', 'diga_mais', 'cor', 'triste', 'linguagens', 'license', 'relationship', 'tudo_bem', 'de_onde_voce_eh', 'religiao', 'out_of_scope', 'onde_voce_mora', 'me', 'bff', 'playlist', 'negar', 'filme', 'star_wars', 'filhos', 'esporte', 'como_estou', 'signo', 'hobby', 'comida', 'historia'\n",
      "\t- entity examples: 172 (22 distinct entities)\n",
      "\t- found entities: 'piada', 'genero', 'cor', 'triste', 'how', 'linguagens', 'starwars', 'license', 'relationship', 'where', 'religiao', 'me', 'bff', 'playlist', 'filme', 'filhos', 'esporte', 'live', 'hobby', 'signo', 'comida', 'historia'\n",
      "\n",
      "2019-07-21 15:59:31 \u001b[1;30mINFO    \u001b[0m \u001b[34mrasa_nlu.model\u001b[0m  - Starting to train component WhitespaceTokenizer\n",
      "2019-07-21 15:59:31 \u001b[1;30mINFO    \u001b[0m \u001b[34mrasa_nlu.model\u001b[0m  - Finished training component.\n",
      "2019-07-21 15:59:31 \u001b[1;30mINFO    \u001b[0m \u001b[34mrasa_nlu.model\u001b[0m  - Starting to train component CRFEntityExtractor\n",
      "2019-07-21 15:59:31 \u001b[1;30mINFO    \u001b[0m \u001b[34mrasa_nlu.model\u001b[0m  - Finished training component.\n",
      "2019-07-21 15:59:31 \u001b[1;30mINFO    \u001b[0m \u001b[34mrasa_nlu.model\u001b[0m  - Starting to train component EntitySynonymMapper\n",
      "2019-07-21 15:59:31 \u001b[1;30mINFO    \u001b[0m \u001b[34mrasa_nlu.model\u001b[0m  - Finished training component.\n",
      "2019-07-21 15:59:31 \u001b[1;30mINFO    \u001b[0m \u001b[34mrasa_nlu.model\u001b[0m  - Starting to train component CountVectorsFeaturizer\n",
      "2019-07-21 15:59:31 \u001b[1;30mINFO    \u001b[0m \u001b[34mrasa_nlu.model\u001b[0m  - Finished training component.\n",
      "2019-07-21 15:59:31 \u001b[1;30mINFO    \u001b[0m \u001b[34mrasa_nlu.model\u001b[0m  - Starting to train component EmbeddingIntentClassifier\n",
      "\n",
      "WARNING: The TensorFlow contrib module will not be included in TensorFlow 2.0.\n",
      "For more information, please see:\n",
      "  * https://github.com/tensorflow/community/blob/master/rfcs/20180907-contrib-sunset.md\n",
      "  * https://github.com/tensorflow/addons\n",
      "If you depend on functionality not listed there, please file an issue.\n",
      "\n",
      "2019-07-21 15:59:32 \u001b[1;30mWARNING \u001b[0m \u001b[34mtensorflow\u001b[0m  - \u001b[33mFrom /usr/local/lib/python3.6/site-packages/rasa_nlu/classifiers/embedding_intent_classifier.py:285: dense (from tensorflow.python.layers.core) is deprecated and will be removed in a future version.\n",
      "Instructions for updating:\n",
      "Use keras.layers.dense instead.\u001b[0m\n",
      "2019-07-21 15:59:32 \u001b[1;30mWARNING \u001b[0m \u001b[34mtensorflow\u001b[0m  - \u001b[33mFrom /usr/local/lib/python3.6/site-packages/tensorflow/python/framework/op_def_library.py:263: colocate_with (from tensorflow.python.framework.ops) is deprecated and will be removed in a future version.\n",
      "Instructions for updating:\n",
      "Colocations handled automatically by placer.\u001b[0m\n",
      "2019-07-21 15:59:32 \u001b[1;30mWARNING \u001b[0m \u001b[34mtensorflow\u001b[0m  - \u001b[33mFrom /usr/local/lib/python3.6/site-packages/rasa_nlu/classifiers/embedding_intent_classifier.py:286: dropout (from tensorflow.python.layers.core) is deprecated and will be removed in a future version.\n",
      "Instructions for updating:\n",
      "Use keras.layers.dropout instead.\u001b[0m\n",
      "2019-07-21 15:59:32 \u001b[1;30mWARNING \u001b[0m \u001b[34mtensorflow\u001b[0m  - \u001b[33mFrom /usr/local/lib/python3.6/site-packages/tensorflow/python/keras/layers/core.py:143: calling dropout (from tensorflow.python.ops.nn_ops) with keep_prob is deprecated and will be removed in a future version.\n",
      "Instructions for updating:\n",
      "Please use `rate` instead of `keep_prob`. Rate should be set to `rate = 1 - keep_prob`.\u001b[0m\n",
      "2019-07-21 15:59:32 \u001b[1;30mWARNING \u001b[0m \u001b[34mtensorflow\u001b[0m  - \u001b[33mFrom /usr/local/lib/python3.6/site-packages/tensorflow/python/ops/math_ops.py:3066: to_int32 (from tensorflow.python.ops.math_ops) is deprecated and will be removed in a future version.\n",
      "Instructions for updating:\n",
      "Use tf.cast instead.\u001b[0m\n",
      "2019-07-21 15:59:32 \u001b[1;30mWARNING \u001b[0m \u001b[34mtensorflow\u001b[0m  - \u001b[33mFrom /usr/local/lib/python3.6/site-packages/tensorflow/python/ops/math_grad.py:102: div (from tensorflow.python.ops.math_ops) is deprecated and will be removed in a future version.\n",
      "Instructions for updating:\n",
      "Deprecated in favor of operator or tf.math.divide.\u001b[0m\n",
      "2019-07-21 15:59:32.817563: I tensorflow/core/platform/cpu_feature_guard.cc:141] Your CPU supports instructions that this TensorFlow binary was not compiled to use: AVX2 FMA\n",
      "2019-07-21 15:59:32.835483: I tensorflow/core/platform/profile_utils/cpu_utils.cc:94] CPU Frequency: 2905000000 Hz\n",
      "2019-07-21 15:59:32.836975: I tensorflow/compiler/xla/service/service.cc:150] XLA service 0x55760934e4b0 executing computations on platform Host. Devices:\n",
      "2019-07-21 15:59:32.837148: I tensorflow/compiler/xla/service/service.cc:158]   StreamExecutor device (0): <undefined>, <undefined>\n",
      "2019-07-21 15:59:32 \u001b[1;30mINFO    \u001b[0m \u001b[34mrasa_nlu.classifiers.embedding_intent_classifier\u001b[0m  - Accuracy is updated every 10 epochs\n",
      "Epochs: 100%|██████████| 300/300 [00:09<00:00, 32.21it/s, loss=0.119, acc=0.993]\n",
      "2019-07-21 15:59:42 \u001b[1;30mINFO    \u001b[0m \u001b[34mrasa_nlu.classifiers.embedding_intent_classifier\u001b[0m  - Finished training embedding classifier, loss=0.119, train accuracy=0.993\n",
      "2019-07-21 15:59:42 \u001b[1;30mINFO    \u001b[0m \u001b[34mrasa_nlu.model\u001b[0m  - Finished training component.\n",
      "2019-07-21 15:59:42 \u001b[1;30mINFO    \u001b[0m \u001b[34mrasa_nlu.model\u001b[0m  - Successfully saved model into '/src_models/nlu/current'\n",
      "2019-07-21 15:59:42 \u001b[1;30mINFO    \u001b[0m \u001b[34m__main__\u001b[0m  - Finished training\n",
      "make: Leaving directory '/work/coach'\n"
     ]
    }
   ],
   "source": [
    "!make train-nlu -C $COACH_DIR_PATH"
   ]
  },
  {
   "cell_type": "markdown",
   "metadata": {},
   "source": [
    "### Métodos de avaliação do chatbot\n",
    "\n",
    "* O Rasa fornece vários métodos de avaliação e validação das `intents`, para verificar como utiliza-los, cada método fornece um log, imagem, gráfico ou arquivo com dados relevantes para interpretação do chatbot."
   ]
  },
  {
   "cell_type": "markdown",
   "metadata": {},
   "source": [
    "* O comando `!python -m rasa_nlu.test` é a base para a avaliação do chatbot.\n",
    "\n",
    "* Na célula abaixo a flag `-h` foi utilizada para mostrar as funções e a forma de uso de cada uma delas, mude seus valores e flags para ter as informações desejadas na sua análise.\n",
    "\n",
    "* Atualmente o Rasa possui 2 modos, `evaluation` e `crossvalidation` que tem seções decicadas a eles neste jupyter notebook."
   ]
  },
  {
   "cell_type": "code",
   "execution_count": 3,
   "metadata": {
    "scrolled": true
   },
   "outputs": [
    {
     "name": "stdout",
     "output_type": "stream",
     "text": [
      "/usr/local/lib/python3.6/runpy.py:125: RuntimeWarning: 'rasa_nlu.test' found in sys.modules after import of package 'rasa_nlu', but prior to execution of 'rasa_nlu.test'; this may result in unpredictable behaviour\r\n",
      "  warn(RuntimeWarning(msg))\r\n",
      "usage: test.py [-h] [--debug] [-v] -d DATA [--mode MODE] [-c CONFIG]\r\n",
      "               [-m MODEL] [-f FOLDS] [--report [REPORT]]\r\n",
      "               [--successes [SUCCESSES]] [--errors ERRORS]\r\n",
      "               [--histogram HISTOGRAM] [--confmat CONFMAT]\r\n",
      "\r\n",
      "evaluate a Rasa NLU pipeline with cross validation or on external data\r\n",
      "\r\n",
      "optional arguments:\r\n",
      "  -h, --help            show this help message and exit\r\n",
      "  --debug               Print lots of debugging statements. Sets logging level\r\n",
      "                        to DEBUG\r\n",
      "  -v, --verbose         Be verbose. Sets logging level to INFO\r\n",
      "  -d DATA, --data DATA  file containing training/evaluation data\r\n",
      "  --mode MODE           evaluation|crossvalidation (evaluate pretrained model\r\n",
      "                        or train model by crossvalidation)\r\n",
      "  -c CONFIG, --config CONFIG\r\n",
      "                        model configuration file (crossvalidation only)\r\n",
      "  -m MODEL, --model MODEL\r\n",
      "                        path to model (evaluation only)\r\n",
      "  -f FOLDS, --folds FOLDS\r\n",
      "                        number of CV folds (crossvalidation only)\r\n",
      "  --report [REPORT]     output path to save the intent/entitymetrics report\r\n",
      "  --successes [SUCCESSES]\r\n",
      "                        output path to save successful predictions\r\n",
      "  --errors ERRORS       output path to save model errors\r\n",
      "  --histogram HISTOGRAM\r\n",
      "                        output path for the confidence histogram\r\n",
      "  --confmat CONFMAT     output path for the confusion matrix plot\r\n"
     ]
    }
   ],
   "source": [
    "!python -m rasa_nlu.test -h"
   ]
  },
  {
   "cell_type": "markdown",
   "metadata": {},
   "source": [
    "### Evaluation"
   ]
  },
  {
   "cell_type": "markdown",
   "metadata": {},
   "source": [
    "* O comando abaixo gera informações relevates para a validação das `intents` são elas:\n",
    "    * Matriz de confusão\n",
    "    * Histograma\n",
    "    * Erros de intents"
   ]
  },
  {
   "cell_type": "code",
   "execution_count": 4,
   "metadata": {
    "scrolled": true
   },
   "outputs": [
    {
     "name": "stdout",
     "output_type": "stream",
     "text": [
      "rm: cannot remove 'erros.json': No such file or directory\n",
      "/usr/local/lib/python3.6/runpy.py:125: RuntimeWarning: 'rasa_nlu.test' found in sys.modules after import of package 'rasa_nlu', but prior to execution of 'rasa_nlu.test'; this may result in unpredictable behaviour\n",
      "  warn(RuntimeWarning(msg))\n",
      "2019-07-21 15:59:46.381460: I tensorflow/core/platform/cpu_feature_guard.cc:141] Your CPU supports instructions that this TensorFlow binary was not compiled to use: AVX2 FMA\n",
      "2019-07-21 15:59:46.398893: I tensorflow/core/platform/profile_utils/cpu_utils.cc:94] CPU Frequency: 2905000000 Hz\n",
      "2019-07-21 15:59:46.399579: I tensorflow/compiler/xla/service/service.cc:150] XLA service 0x557727013d80 executing computations on platform Host. Devices:\n",
      "2019-07-21 15:59:46.399669: I tensorflow/compiler/xla/service/service.cc:158]   StreamExecutor device (0): <undefined>, <undefined>\n",
      "2019-07-21 15:59:46 \u001b[1;30mWARNING \u001b[0m \u001b[34mtensorflow\u001b[0m  - \u001b[33mFrom /usr/local/lib/python3.6/site-packages/tensorflow/python/training/saver.py:1266: checkpoint_exists (from tensorflow.python.training.checkpoint_management) is deprecated and will be removed in a future version.\n",
      "Instructions for updating:\n",
      "Use standard file APIs to check for files with this prefix.\u001b[0m\n",
      "2019-07-21 15:59:46 \u001b[1;30mINFO    \u001b[0m \u001b[34mtensorflow\u001b[0m  - Restoring parameters from /models/nlu/current/component_4_EmbeddingIntentClassifier.ckpt\n",
      "2019-07-21 15:59:46 \u001b[1;30mINFO    \u001b[0m \u001b[34mrasa_nlu.training_data.loading\u001b[0m  - Training data format of ../../coach/data/intents/actions.md is md\n",
      "2019-07-21 15:59:46 \u001b[1;30mINFO    \u001b[0m \u001b[34mrasa_nlu.training_data.training_data\u001b[0m  - Training data stats: \n",
      "\t- intent examples: 6 (1 distinct intents)\n",
      "\t- Found intents: 'action_test'\n",
      "\t- entity examples: 0 (0 distinct entities)\n",
      "\t- found entities: \n",
      "\n",
      "2019-07-21 15:59:46 \u001b[1;30mINFO    \u001b[0m \u001b[34mrasa_nlu.training_data.loading\u001b[0m  - Training data format of ../../coach/data/intents/aleatorio.md is md\n",
      "2019-07-21 15:59:46 \u001b[1;30mINFO    \u001b[0m \u001b[34mrasa_nlu.training_data.training_data\u001b[0m  - Training data stats: \n",
      "\t- intent examples: 197 (24 distinct intents)\n",
      "\t- Found intents: 'onde_voce_mora', 'me', 'relationship', 'license', 'comida', 'como_estou', 'time', 'playlist', 'star_wars', 'triste', 'cor', 'genero', 'signo', 'de_onde_voce_eh', 'filme', 'religiao', 'bff', 'historia', 'filhos', 'risada', 'esporte', 'piada', 'hobby', 'linguagens'\n",
      "\t- entity examples: 172 (22 distinct entities)\n",
      "\t- found entities: 'relationship', 'comida', 'license', 'playlist', 'live', 'signo', 'bff', 'historia', 'piada', 'esporte', 'hobby', 'starwars', 'me', 'triste', 'cor', 'where', 'genero', 'filme', 'religiao', 'filhos', 'how', 'linguagens'\n",
      "\n",
      "2019-07-21 15:59:46 \u001b[1;30mINFO    \u001b[0m \u001b[34mrasa_nlu.training_data.loading\u001b[0m  - Training data format of ../../coach/data/intents/geral.md is md\n",
      "2019-07-21 15:59:46 \u001b[1;30mINFO    \u001b[0m \u001b[34mrasa_nlu.training_data.training_data\u001b[0m  - Training data stats: \n",
      "\t- intent examples: 85 (7 distinct intents)\n",
      "\t- Found intents: 'elogios', 'despedir', 'out_of_scope', 'diga_mais', 'negar', 'tudo_bem', 'cumprimentar'\n",
      "\t- entity examples: 0 (0 distinct entities)\n",
      "\t- found entities: \n",
      "\n",
      "2019-07-21 15:59:46 \u001b[1;30mINFO    \u001b[0m \u001b[34mrasa_nlu.training_data.training_data\u001b[0m  - Training data stats: \n",
      "\t- intent examples: 288 (32 distinct intents)\n",
      "\t- Found intents: 'elogios', 'relationship', 'license', 'comida', 'diga_mais', 'playlist', 'star_wars', 'signo', 'bff', 'historia', 'tudo_bem', 'piada', 'esporte', 'hobby', 'onde_voce_mora', 'me', 'despedir', 'como_estou', 'time', 'negar', 'triste', 'cor', 'genero', 'out_of_scope', 'de_onde_voce_eh', 'action_test', 'filme', 'cumprimentar', 'religiao', 'filhos', 'linguagens', 'risada'\n",
      "\t- entity examples: 172 (22 distinct entities)\n",
      "\t- found entities: 'relationship', 'comida', 'license', 'playlist', 'live', 'signo', 'bff', 'historia', 'piada', 'esporte', 'hobby', 'starwars', 'me', 'triste', 'cor', 'where', 'genero', 'filme', 'religiao', 'filhos', 'how', 'linguagens'\n",
      "\n",
      "2019-07-21 15:59:46 \u001b[1;30mINFO    \u001b[0m \u001b[34m__main__\u001b[0m  - Running model for predictions:\n",
      "100%|████████████████████████████████████████| 288/288 [00:00<00:00, 798.00it/s]\n",
      "2019-07-21 15:59:46 \u001b[1;30mINFO    \u001b[0m \u001b[34m__main__\u001b[0m  - Intent evaluation results:\n",
      "2019-07-21 15:59:46 \u001b[1;30mINFO    \u001b[0m \u001b[34m__main__\u001b[0m  - Intent Evaluation: Only considering those 288 examples that have a defined intent out of 288 examples\n",
      "/usr/local/lib/python3.6/site-packages/sklearn/metrics/classification.py:1145: UndefinedMetricWarning: Recall and F-score are ill-defined and being set to 0.0 in labels with no true samples.\n",
      "  'recall', 'true', average, warn_for)\n",
      "/usr/local/lib/python3.6/site-packages/sklearn/metrics/classification.py:1145: UndefinedMetricWarning: F-score is ill-defined and being set to 0.0 in labels with no true samples.\n",
      "  'recall', 'true', average, warn_for)\n",
      "2019-07-21 15:59:47 \u001b[1;30mINFO    \u001b[0m \u001b[34m__main__\u001b[0m  - F1-Score:  0.9912551440329218\n",
      "2019-07-21 15:59:47 \u001b[1;30mINFO    \u001b[0m \u001b[34m__main__\u001b[0m  - Precision: 0.9930555555555556\n",
      "2019-07-21 15:59:47 \u001b[1;30mINFO    \u001b[0m \u001b[34m__main__\u001b[0m  - Accuracy:  0.9895833333333334\n",
      "2019-07-21 15:59:47 \u001b[1;30mINFO    \u001b[0m \u001b[34m__main__\u001b[0m  - Classification report: \n",
      "                 precision    recall  f1-score   support\n",
      "\n",
      "                      0.00      0.00      0.00         0\n",
      "    action_test       1.00      1.00      1.00         6\n",
      "            bff       1.00      1.00      1.00        11\n",
      "         comida       1.00      1.00      1.00         8\n",
      "     como_estou       1.00      1.00      1.00         8\n",
      "            cor       1.00      1.00      1.00         6\n",
      "   cumprimentar       0.95      0.95      0.95        22\n",
      "de_onde_voce_eh       1.00      1.00      1.00         4\n",
      "       despedir       1.00      1.00      1.00        16\n",
      "      diga_mais       1.00      1.00      1.00         9\n",
      "        elogios       1.00      1.00      1.00         4\n",
      "        esporte       1.00      1.00      1.00         6\n",
      "         filhos       1.00      1.00      1.00        11\n",
      "          filme       1.00      1.00      1.00         4\n",
      "         genero       1.00      1.00      1.00         8\n",
      "       historia       1.00      1.00      1.00         6\n",
      "          hobby       1.00      1.00      1.00         7\n",
      "        license       1.00      1.00      1.00        11\n",
      "     linguagens       1.00      0.93      0.96        14\n",
      "             me       1.00      1.00      1.00         6\n",
      "          negar       1.00      1.00      1.00        19\n",
      " onde_voce_mora       1.00      1.00      1.00         8\n",
      "   out_of_scope       1.00      1.00      1.00         5\n",
      "          piada       1.00      1.00      1.00         7\n",
      "       playlist       1.00      1.00      1.00         8\n",
      "   relationship       1.00      1.00      1.00        10\n",
      "       religiao       1.00      1.00      1.00        16\n",
      "         risada       1.00      1.00      1.00        13\n",
      "          signo       1.00      1.00      1.00         3\n",
      "      star_wars       1.00      1.00      1.00        10\n",
      "           time       1.00      1.00      1.00         5\n",
      "         triste       1.00      1.00      1.00         7\n",
      "       tudo_bem       0.90      0.90      0.90        10\n",
      "\n",
      "      micro avg       0.99      0.99      0.99       288\n",
      "      macro avg       0.97      0.96      0.96       288\n",
      "   weighted avg       0.99      0.99      0.99       288\n",
      "\n",
      "2019-07-21 15:59:47 \u001b[1;30mINFO    \u001b[0m \u001b[34m__main__\u001b[0m  - Model prediction errors saved to errors.json.\n",
      "2019-07-21 15:59:47 \u001b[1;30mINFO    \u001b[0m \u001b[34m__main__\u001b[0m  - Confusion matrix, without normalization: \n",
      "[[ 0  0  0 ...  0  0  0]\n",
      " [ 0  6  0 ...  0  0  0]\n",
      " [ 0  0 11 ...  0  0  0]\n",
      " ...\n",
      " [ 0  0  0 ...  5  0  0]\n",
      " [ 0  0  0 ...  0  7  0]\n",
      " [ 0  0  0 ...  0  0  9]]\n",
      "Figure(2000x2000)\n",
      "Figure(1000x1000)\n",
      "2019-07-21 15:59:51 \u001b[1;30mINFO    \u001b[0m \u001b[34m__main__\u001b[0m  - Entity evaluation results:\n",
      "2019-07-21 15:59:51 \u001b[1;30mINFO    \u001b[0m \u001b[34m__main__\u001b[0m  - Evaluation for entity extractor: CRFEntityExtractor \n",
      "2019-07-21 15:59:51 \u001b[1;30mINFO    \u001b[0m \u001b[34m__main__\u001b[0m  - F1-Score:  1.0\n",
      "2019-07-21 15:59:51 \u001b[1;30mINFO    \u001b[0m \u001b[34m__main__\u001b[0m  - Precision: 1.0\n",
      "2019-07-21 15:59:51 \u001b[1;30mINFO    \u001b[0m \u001b[34m__main__\u001b[0m  - Accuracy:  1.0\n",
      "2019-07-21 15:59:51 \u001b[1;30mINFO    \u001b[0m \u001b[34m__main__\u001b[0m  - Classification report: \n",
      "              precision    recall  f1-score   support\n",
      "\n",
      "         bff       1.00      1.00      1.00        17\n",
      "      comida       1.00      1.00      1.00        17\n",
      "         cor       1.00      1.00      1.00        13\n",
      "     esporte       1.00      1.00      1.00         6\n",
      "      filhos       1.00      1.00      1.00        11\n",
      "       filme       1.00      1.00      1.00         4\n",
      "      genero       1.00      1.00      1.00        15\n",
      "    historia       1.00      1.00      1.00         6\n",
      "       hobby       1.00      1.00      1.00        11\n",
      "         how       1.00      1.00      1.00        24\n",
      "     license       1.00      1.00      1.00        14\n",
      "  linguagens       1.00      1.00      1.00        14\n",
      "        live       1.00      1.00      1.00        13\n",
      "          me       1.00      1.00      1.00         6\n",
      "   no_entity       1.00      1.00      1.00       613\n",
      "       piada       1.00      1.00      1.00         7\n",
      "    playlist       1.00      1.00      1.00         7\n",
      "relationship       1.00      1.00      1.00         9\n",
      "    religiao       1.00      1.00      1.00        16\n",
      "       signo       1.00      1.00      1.00         3\n",
      "    starwars       1.00      1.00      1.00        13\n",
      "      triste       1.00      1.00      1.00         7\n",
      "       where       1.00      1.00      1.00         3\n",
      "\n",
      "   micro avg       1.00      1.00      1.00       849\n",
      "   macro avg       1.00      1.00      1.00       849\n",
      "weighted avg       1.00      1.00      1.00       849\n",
      "\n",
      "2019-07-21 15:59:51 \u001b[1;30mINFO    \u001b[0m \u001b[34m__main__\u001b[0m  - Finished evaluation\n"
     ]
    }
   ],
   "source": [
    "!rm erros.json\n",
    "!python -m rasa_nlu.test -d $COACH_INTENTS_PATH -m $COACH_MODELS_NLU_PATH --mode evaluation"
   ]
  },
  {
   "cell_type": "markdown",
   "metadata": {},
   "source": [
    "#### Matriz de Confusão\n",
    "* A matriz de confusão mostra a correlação entre as intents.\n",
    "* A diagonal principal tem forte correlação pois mostra a relação de uma intent **com ela mesma**\n",
    "* O ideal é que não haja **nenhum valor** diferente de **0 fora da diagonal principal**.\n",
    "\n",
    "`Execute este notebook no Firefox para visualizar o PDF da matriz de confusão`"
   ]
  },
  {
   "cell_type": "code",
   "execution_count": 5,
   "metadata": {
    "scrolled": false
   },
   "outputs": [
    {
     "data": {
      "text/html": [
       "\n",
       "        <iframe\n",
       "            width=\"900\"\n",
       "            height=\"700\"\n",
       "            src=\"./confmat.png\"\n",
       "            frameborder=\"0\"\n",
       "            allowfullscreen\n",
       "        ></iframe>\n",
       "        "
      ],
      "text/plain": [
       "<IPython.lib.display.IFrame at 0x7f848938cd68>"
      ]
     },
     "execution_count": 5,
     "metadata": {},
     "output_type": "execute_result"
    }
   ],
   "source": [
    "IFrame(src='./confmat.png', width=900, height=700)"
   ]
  },
  {
   "cell_type": "markdown",
   "metadata": {},
   "source": [
    "#### Erros\n",
    "* O arquivo `erros,json` mostra os erros encontrados. Este arquivo lista os mesmos erros mostrados na **matriz de confusão**, então caso ela fique muito grande, não se preocupe, pois você pode apenas procurar os erros no arquivo gerado.\n",
    "* Os erros mostrados são textos repetidos nos exemplos de diferrentes `intents`.\n",
    "* Caso o arquivo não seja gerado significa que não foram encontrados erros."
   ]
  },
  {
   "cell_type": "code",
   "execution_count": 6,
   "metadata": {
    "scrolled": true
   },
   "outputs": [
    {
     "name": "stdout",
     "output_type": "stream",
     "text": [
      "[\r\n",
      "    {\r\n",
      "        \"text\": \"e o c#\",\r\n",
      "        \"intent\": \"linguagens\",\r\n",
      "        \"intent_prediction\": {\r\n",
      "            \"name\": \"\",\r\n",
      "            \"confidence\": 0.0\r\n",
      "        }\r\n",
      "    },\r\n",
      "    {\r\n",
      "        \"text\": \"tudo bom\",\r\n",
      "        \"intent\": \"cumprimentar\",\r\n",
      "        \"intent_prediction\": {\r\n",
      "            \"name\": \"tudo_bem\",\r\n",
      "            \"confidence\": 0.862882137298584\r\n",
      "        }\r\n",
      "    },\r\n",
      "    {\r\n",
      "        \"text\": \"como vai\",\r\n",
      "        \"intent\": \"tudo_bem\",\r\n",
      "        \"intent_prediction\": {\r\n",
      "            \"name\": \"cumprimentar\",\r\n",
      "            \"confidence\": 0.8922472596168518\r\n",
      "        }\r\n",
      "    }\r\n",
      "]"
     ]
    }
   ],
   "source": [
    "%cat errors.json"
   ]
  },
  {
   "cell_type": "markdown",
   "metadata": {},
   "source": [
    "#### Histograma\n",
    "\n",
    "* O histograma contém a distribuição da predições das `intents`"
   ]
  },
  {
   "cell_type": "code",
   "execution_count": 7,
   "metadata": {
    "scrolled": false
   },
   "outputs": [
    {
     "data": {
      "text/html": [
       "\n",
       "        <iframe\n",
       "            width=\"900\"\n",
       "            height=\"700\"\n",
       "            src=\"./hist.png\"\n",
       "            frameborder=\"0\"\n",
       "            allowfullscreen\n",
       "        ></iframe>\n",
       "        "
      ],
      "text/plain": [
       "<IPython.lib.display.IFrame at 0x7f84893a06a0>"
      ]
     },
     "execution_count": 7,
     "metadata": {},
     "output_type": "execute_result"
    }
   ],
   "source": [
    "IFrame(src='./hist.png', width=900, height=700)"
   ]
  },
  {
   "cell_type": "markdown",
   "metadata": {},
   "source": [
    "## Referências:\n",
    "\n",
    "O Rasa está em constante evolução, alguns links úteis para a construção deste jupyter-notebook e para a análise das `intents` são:\n",
    "\n",
    "* [Evaluation](https://rasa.com/docs/nlu/evaluation/)"
   ]
  },
  {
   "cell_type": "code",
   "execution_count": null,
   "metadata": {
    "scrolled": true
   },
   "outputs": [],
   "source": []
  }
 ],
 "metadata": {
  "colab": {
   "collapsed_sections": [
    "y4miuS-TqYcn",
    "BBF6Nqi9scQE",
    "Fs3nOUzBsqrG",
    "5MnGuFRpzzBh"
   ],
   "default_view": {},
   "name": "Building a Simple Bot with Rasa Stack - Tutorial",
   "provenance": [
    {
     "file_id": "1GutDkDXmfU-nRzNH7Pxxx8YpdvLUw9LO",
     "timestamp": 1521183725373
    }
   ],
   "toc_visible": true,
   "version": "0.3.2",
   "views": {}
  },
  "kernelspec": {
   "display_name": "Python 3",
   "language": "python",
   "name": "python3"
  },
  "language_info": {
   "codemirror_mode": {
    "name": "ipython",
    "version": 3
   },
   "file_extension": ".py",
   "mimetype": "text/x-python",
   "name": "python",
   "nbconvert_exporter": "python",
   "pygments_lexer": "ipython3",
   "version": "3.6.8"
  }
 },
 "nbformat": 4,
 "nbformat_minor": 1
}
